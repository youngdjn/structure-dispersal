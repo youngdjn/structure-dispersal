{
 "cells": [
  {
   "cell_type": "code",
   "execution_count": null,
   "id": "8b6f60be",
   "metadata": {},
   "outputs": [],
   "source": [
    "import easyidp as idp\n",
    "from pathlib import Path\n",
    "from collections import defaultdict\n",
    "idp.__version__"
   ]
  },
  {
   "cell_type": "code",
   "execution_count": null,
   "id": "89a2f3d9-89c7-41be-b40e-0834226b1e4c",
   "metadata": {},
   "outputs": [],
   "source": [
    "## Define input files\n",
    "# 'roi' contains the geospatial polygons defining the location of your features of interest in 2D space (must be a shapefile)\n",
    "roi_path = Path(\"/ofo-share/str-disp_drone-data-partial/taos/emerald-120m_20230401T2215_idptaos.shp\")\n",
    "# the digital surface model (absolute elevations) from the metashape project containing the camera locations\n",
    "dsm_path = Path(\"/ofo-share/str-disp_drone-data-partial/str-disp_drone-data_imagery-processed/outputs/flattened-120m/emerald-120m_20230401T2215_dsm_utm.tif\")\n",
    "\n",
    "## Load roi and dsm, use dsm to get elevations of the vertices of the polygons defining features (to be able to reproject in 3D space)\n",
    "roi = idp.ROI(roi_path, name_field = \"treeID\")\n",
    "roi.get_z_from_dsm(dsm_path, mode=\"point\")\n",
    "roi"
   ]
  },
  {
   "cell_type": "code",
   "execution_count": null,
   "id": "d3352616",
   "metadata": {},
   "outputs": [],
   "source": [
    "## Load the metashape project containing the camera positions\n",
    "msproj = Path(\"/ofo-share/str-disp_drone-data-partial/str-disp_drone-data_imagery-processed/projects/flattened-120m/emerald-120m_20230401T2215.psx\")\n",
    "ms = idp.Metashape(msproj, chunk_id=0)"
   ]
  },
  {
   "cell_type": "code",
   "execution_count": null,
   "id": "96db4322",
   "metadata": {},
   "outputs": [],
   "source": [
    "## Compute the location of each feature (provided tree polygons) on each photo and save to json\n",
    "img_dict_ms = roi.back2raw(ms)\n",
    "\n",
    "# Invert the dict so the top level of the nesting is the photo files, and under them, ROIs (tree polygons)\n",
    "flipped_dict = defaultdict(dict)\n",
    "for key, val in img_dict_ms.items():\n",
    "    for subkey, subval in val.items():\n",
    "        flipped_dict[subkey][key] = subval\n",
    "\n",
    "idp.jsonfile.dict2json(flipped_dict, json_path = \"/ofo-share/str-disp_drone-data-partial/emerald/tao-img-dict.json\", indent = 2)"
   ]
  },
  {
   "cell_type": "code",
   "execution_count": null,
   "id": "91e9a2a7",
   "metadata": {},
   "outputs": [],
   "source": [
    "## Optional for visualization: draw the location of a specified feature polygon on each photo containing it\n",
    "ms.show_roi_on_img(img_dict_ms, \"644\", save_as=\"/ofo-share/str-disp_drone-data-partial/cropped-photos2/overview_644.png\")\n",
    "\n",
    "# or on a single photo\n",
    "ms.show_roi_on_img(img_dict_ms, \"4\", \"120m--101MEDIA--DJI_0495.JPG\", save_as=\"/ofo-share/str-disp_drone-data-partial/cropped-photos2/overview_onephoto.png\")"
   ]
  }
 ],
 "metadata": {
  "kernelspec": {
   "display_name": "Python 3 (ipykernel)",
   "language": "python",
   "name": "python3"
  },
  "language_info": {
   "codemirror_mode": {
    "name": "ipython",
    "version": 3
   },
   "file_extension": ".py",
   "mimetype": "text/x-python",
   "name": "python",
   "nbconvert_exporter": "python",
   "pygments_lexer": "ipython3",
   "version": "3.9.13"
  }
 },
 "nbformat": 4,
 "nbformat_minor": 5
}
